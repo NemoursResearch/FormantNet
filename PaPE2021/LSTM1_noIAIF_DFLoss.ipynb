{
 "cells": [
  {
   "cell_type": "markdown",
   "metadata": {},
   "source": [
    "# Code for PaPE2021 non-IAIF models (RNN model with 1 unidirectional LSTM layer, with or without pre-emphasis, with added delta-frequency loss)\n",
    "\n",
    "The Python code (run under TensorFlow 2.4) that was used to train and evaluate the non-IAIF models reported to PaPE 2021 is given below. The code is unaltered, except that (1) comments have been added, and (2) code used solely to evaluate the trained model on non-TIMIT data has been removed.\n",
    "\n",
    "Note that the code makes some assumptions based on the circumstances of our computational setup at the time (e.g. file names and locations, etc.) and so cannot be run as-is without the same setup. You may also notice differences in code between the IS2021 models and these models. Some of these differences are due to the necessary differences between the experiments, of course, while other differences are irrelevant to the training and evaluation, and are simply due to the evolution of the code over time, e.g. to make the code more readable and generalizable. We intend to provide a more uniform and user-friendly version of the code for general use soon.\n",
    "\n",
    "### Execution:\n",
    "This script was run with five command-line parameters that indicate the number of formants and antiformants; whether spectral smoothing should be done on the linear spectra (\"T\") or the log spectra (\"F\"; we recommend \"T\"); whether to use pre-emphasis or not (\"T\" or \"F\"); and finally the delta-frequency loss weighting parameter W as a percentage. The output (consisting of data statistics, model specifications, and script progress reports, including training and validation loss) is saved to an output file, e.g.:\n",
    "\n",
    "LSTM1_noIAIF_DFLoss.py 6 1 T F 10 > LSTM1DF.f6z1TF10.out\n",
    "\n",
    "It needs to be run on a server with access to Tensorflow 2.3 or above. On a GPU it takes us about 4 hours total to run; on a CPU, it may take half a day or more to run.\n",
    "\n",
    "### Input:\n",
    "If the name of the directory in which the script is run is e.g. expdir/, then the script looks for the input data in a sister directory ../data/, where the two input file lists timwavs_ordered2.txt and VTRlist1.txt (described below) should be found. Also in there should be a directory ../data/timit/timitlink/, which holds the TIMIT wavefiles in the same directory structure as in the original corpus, i.e. two subdirectories test/ and train/, each with subdirectories for dialects (dr1-dr8), and each of those with subdirectories for each speaker. Unlike the IAIF-using scripts of IS2021, this script takes the original raw wavefiles as input.\n",
    "\n",
    "### Output:\n",
    "The output models and evaluation files are saved to a directory named, e.g. expdir/mvt33_f6z1TF10/ (where \"mvt33\" was the unique designation for this experiment, and the rest indicates the command-line options chosen). The model files are stored directly in this directory. A subdirectory, expdir/mvt33_f6z1TF10/timit/, in which the output formant track files are stored, one for each input file. These are stored in a format (described below) that was designed to the specific interests of our laboratory, so scripts will be provided that were used to extract the frequencies for evaluation against the VTR-TIMIT database."
   ]
  },
  {
   "cell_type": "code",
   "execution_count": null,
   "metadata": {},
   "outputs": [],
   "source": [
    "import numpy as np\n",
    "import tensorflow as tf\n",
    "import os\n",
    "import glob\n",
    "import subprocess\n",
    "import sys"
   ]
  },
  {
   "cell_type": "code",
   "execution_count": null,
   "metadata": {},
   "outputs": [],
   "source": [
    "# The testing parameter is used for quick testing of the code in e.g. a Jupyter Lab window. \n",
    "# If testing is set to True, then only a small number of input files are loaded, a few\n",
    "# iterations of training are run, and only a few test files are evaluated.\n",
    "\n",
    "#testing = True\n",
    "testing = False"
   ]
  },
  {
   "cell_type": "code",
   "execution_count": null,
   "metadata": {},
   "outputs": [],
   "source": [
    "# Variables that differ among subexperiments:\n",
    "expname = \"mvt33\"     # A unique designation for the experiment -- used to name the output directories and files below\n",
    "\n",
    "# Subexperiment parameters, given either in the script or as command-line parameters:\n",
    "# We tested various numbers of formants and zeros, but ultimately settled on 6 formants and 1 zero for the TIMIT dataset.\n",
    "# We recommend leaving smooth_lin as \"T\" (spectral smoothing done on linear rather than log spectra).\n",
    "# Users may want to experiment with pre-emphasis and the delta-loss weight; see our paper.\n",
    "if testing is True:\n",
    "    NFORMANTS = 6\n",
    "    NZEROS = 1\n",
    "    smooth_lin = \"T\"\n",
    "    preemphasis = \"F\"\n",
    "    weightper = 10\n",
    "else:\n",
    "    NFORMANTS = int(sys.argv[1])\n",
    "    NZEROS = int(sys.argv[2])\n",
    "    smooth_lin = sys.argv[3]\n",
    "    preemphasis = sys.argv[4]\n",
    "    weightper = int(sys.argv[5])"
   ]
  },
  {
   "cell_type": "markdown",
   "metadata": {},
   "source": [
    "**Input filelist:** The input filelist \"timwavs_ordered2.txt\" has the following format:\n",
    "\n",
    "*timit/timitlink/train/dr1/fecd0/sa1  \n",
    "timit/timitlink/train/dr1/fecd0/sa2  \n",
    "timit/timitlink/train/dr1/fecd0/si1418  \n",
    "timit/timitlink/train/dr1/fecd0/si2048  \n",
    "timit/timitlink/train/dr1/fecd0/si788*  \n",
    "\n",
    "The code further down below assumes 6300 files, in the order train (4140), validation (480), test (2040).\n",
    "The evaluation filelist VTRlist1.txt has the same format, except with the suffix \".wav\" added to each line, and it only lists the 516 files included in the VTR-TIMIT corpus, in any order.\n",
    "\n",
    "**Sequences:** For RNN models (e.g. LSTMs), a training **SEQUENCE_LENGTH** of 64 is specified; the training set is split into non-overlapping sequences of frames of this length (though the final model can accept sequences of any length for evaluation)."
   ]
  },
  {
   "cell_type": "code",
   "execution_count": null,
   "metadata": {},
   "outputs": [],
   "source": [
    "NSUM = NFORMANTS + NZEROS\n",
    "NPARAMS = NFORMANTS*3 + NZEROS*2\n",
    "\n",
    "#Creation of output directory name (checkpoint_dir)\n",
    "subexp = \"f\" + str(NFORMANTS) + \"z\" + str(NZEROS) + \"s\" + smooth_lin + \"p\" + preemphasis + str(weightper)\n",
    "\n",
    "DIFFWEIGHT = weightper / 100.0\n",
    "\n",
    "smlog = prelog = False\n",
    "if smooth_lin == \"T\":\n",
    "    smlog = True\n",
    "if preemphasis == \"T\":\n",
    "    prelog = True\n",
    "\n",
    "if testing is True:\n",
    "    checkpoint_dir = expname + \"_tmp_\" + subexp\n",
    "else:\n",
    "    checkpoint_dir = expname + \"_\" + subexp\n",
    "\n",
    "datadir = \"../data/\"\n",
    "filelist = 'timwavs_ordered2.txt'\n",
    "\n",
    "# Other variables:\n",
    "n_context_frames = 0  # only used for CNNs (see IS2021 code)\n",
    "window_length = n_context_frames * 2 + 1  # only used for CNNs (see IS2021 code)\n",
    "SEQUENCE_LENGTH = 64\n",
    "BATCH_SIZE = 32\n",
    "top_activation='sigmoid'\n",
    "floor = 0.001"
   ]
  },
  {
   "cell_type": "code",
   "execution_count": null,
   "metadata": {},
   "outputs": [],
   "source": [
    "print(\"\")\n",
    "print(expname + \" OUTPUT:\")\n",
    "print(\"Formants:\", NFORMANTS)\n",
    "print(\"Zeros:\", NZEROS)\n",
    "print(\"Smooth linear rather than log spectra:\", smlog)\n",
    "print(\"Use preemphasis:\", prelog)\n",
    "print(\"Differential weight:\", DIFFWEIGHT)\n",
    "print(\"Number of context spectra on either side:\", n_context_frames)\n",
    "print(\"Total window length:\", window_length)\n",
    "print(\"Sequence length:\", SEQUENCE_LENGTH)\n",
    "print(\"Data from:\", datadir)\n",
    "print(\"Data list:\", filelist)\n",
    "print(\"Saved in:\", checkpoint_dir)\n",
    "print(\"\")"
   ]
  },
  {
   "cell_type": "code",
   "execution_count": null,
   "metadata": {},
   "outputs": [],
   "source": [
    "with open(datadir + filelist) as f:\n",
    "    allfileset = [i[:-1] + '.wav' for i in list(f)]\n",
    "\n",
    "with open(datadir + 'VTRlist1.txt') as f:\n",
    "    vtrfileset = [i[:-1] for i in list(f)]\n",
    "\n",
    "if testing is True:\n",
    "    vtrfileset = vtrfileset[:10]"
   ]
  },
  {
   "cell_type": "markdown",
   "metadata": {},
   "source": [
    "### Datasets -- log scale spectra:\n",
    "\n",
    "The following code reads in and normalizes the training and validation data. Unlike the IAIF-preprocessed data used in the IS2021 experiments, this code reads in raw wavefiles and then converts them into the model input, which consists of a log-scale (dB) spectral envelope calculated from each frame of input, as described in the IS2021 paper."
   ]
  },
  {
   "cell_type": "code",
   "execution_count": null,
   "metadata": {},
   "outputs": [],
   "source": [
    "# This function does the smoothing of the spectral envelope.\n",
    "def spenvl(data, npasses):\n",
    "    npt=len(data)\n",
    "    for jp in range(npasses):\n",
    "        dm1 = data[0]\n",
    "        dz = data[1]\n",
    "        for j in range(1, npt-1):\n",
    "            dp1 = data[j+1]\n",
    "            if dz < dm1 and dz < dp1:\n",
    "                data[j] = 0.5 * (dm1 + dp1)\n",
    "            dm1 = dz\n",
    "            dz = dp1\n",
    "            \n",
    "        dm1 = data[0]\n",
    "        dz = data[1]\n",
    "        for j in range(1, npt-1):\n",
    "            dp1 = data[j+1]\n",
    "            if dz <= dm1 or dz <= dp1:\n",
    "                data[j] = 0.25*dm1 + 0.5*dz + 0.25*dp1\n",
    "            dm1 = dz\n",
    "            dz = dp1\n",
    "            \n",
    "    return data         "
   ]
  },
  {
   "cell_type": "markdown",
   "metadata": {},
   "source": [
    "The variable **wlen** below sets the width of the input window (in samples; 512 corresponds to a 32-msec window with 16KHz-sampled speech). The number of data points per frame (the spectral resolution) will half of this number plus one, which for these experiments was kept at a constant 257 points and stored in the variable **npoints** below. **step** determines how often windows are extracted (in samples; 80 samples corresponds to 5 msec), and **pe** sets the degree of pre-emphasis, if it's used (this was also kept constant)."
   ]
  },
  {
   "cell_type": "code",
   "execution_count": null,
   "metadata": {},
   "outputs": [],
   "source": [
    "wlen=512\n",
    "step=80\n",
    "pe=0.98\n",
    "#scale = tf.cast(2.0 / tf.reduce_sum(tf.signal.hann_window(window_length=wlen, periodic=False)), dtype=tf.float64)\n",
    "scale = 2.0 / tf.reduce_sum(tf.signal.hann_window(window_length=wlen, periodic=False)).numpy()\n",
    "#scale"
   ]
  },
  {
   "cell_type": "code",
   "execution_count": null,
   "metadata": {},
   "outputs": [],
   "source": [
    "# The following function is used to load data and, if needed, add N context frames (ncframes) to each end.\n",
    "# (Context frames were only used for CNN experiments; see the IS2021 directory.)\n",
    "# Input include datadir (the common superdirectory for all input files), the filelist, the amount of spectral\n",
    "# smoothing, and the spectral smoothing and preemphasis flags described agove.\n",
    "# datdir is prepended to each file in the filelist, and may\n",
    "# be left as an empty string. The filelist may itself include its own subdirectories. The filelist\n",
    "# may be a single file (necessary for evaluation, as seen below). Note that getdata() concatenates\n",
    "# all input files into one single NumPy array, with nothing to indicate boundaries between input files.\n",
    "# Initial and final context frames (copies of the first and last frames) are added to this entire structure. This is\n",
    "# necessary because of how tf.keras.preprocessing.timeseries_dataset_from_array() works, which will be\n",
    "# used to divide the array into input windows (see below).\n",
    "\n",
    "def getdata(datadir, filelist=[], ncframes=0, smooth=6, verbose=1, smooth_lin=smlog, preemphasis=prelog):\n",
    "    if verbose > 0:\n",
    "        import time\n",
    "        start_time = time.perf_counter()\n",
    "    datalist = []\n",
    "    for f in filelist:\n",
    "        audio_binary = tf.io.read_file(datadir + '/' + f)\n",
    "        aud0, fs = tf.audio.decode_wav(audio_binary)\n",
    "        normed_audio = tf.squeeze(aud0, axis = -1)\n",
    "        audio = normed_audio * 32768.0\n",
    "        if preemphasis is True:\n",
    "            pe_audio = audio.numpy()\n",
    "            pe_audio[1:] = pe_audio[1:] - pe * audio[:-1].numpy()\n",
    "            audio_padded = np.hstack((np.zeros(( wlen // 2 )), pe_audio, np.zeros(( step - 1 ))))\n",
    "        else:\n",
    "            audio_padded = np.hstack((np.zeros(( wlen // 2 )), audio.numpy(), np.zeros(( step - 1 ))))\n",
    "            \n",
    "        specs = tf.abs(tf.signal.stft(audio_padded, frame_length=wlen, frame_step=step, fft_length=wlen, pad_end=False)).numpy()\n",
    "        \n",
    "        if smooth_lin is False:\n",
    "            specs = 20.0 * np.log10(scale * specs + floor)\n",
    "        \n",
    "        for i in range(specs.shape[0]):\n",
    "            datalist += list(spenvl(specs[i], smooth))\n",
    "\n",
    "    dataset = np.array(datalist, dtype=np.float32).reshape(-1, specs.shape[1])\n",
    "    \n",
    "    if smooth_lin is True:\n",
    "        dataset = 20.0 * np.log10(scale * dataset + floor)\n",
    "    \n",
    "    if (ncframes > 0):\n",
    "        x = firstframe = [dataset[0,:]]\n",
    "        y = lastframe = [dataset[-1,:]]\n",
    "        for j in range(ncframes-1):\n",
    "            x = np.concatenate((x, firstframe))\n",
    "        for j in range(ncframes*2-1):\n",
    "            y = np.concatenate((y, lastframe))\n",
    "        dataset = np.concatenate((x, dataset, y))\n",
    "    \n",
    "    if (verbose > 0):\n",
    "        print(\"Loaded\", len(filelist), \"files (time:\", time.perf_counter() - start_time, \")\")\n",
    "    return specs.shape[1], dataset"
   ]
  },
  {
   "cell_type": "code",
   "execution_count": null,
   "metadata": {},
   "outputs": [],
   "source": [
    "# A function to get some stats on the dataset. Note that the mean and standard deviation of\n",
    "# the training set calculated with this function must be used to normalize all training\n",
    "# and evaluation data prior to being fed to the model.\n",
    "\n",
    "def getstats(d):\n",
    "    print(\"Shape:\", d.shape)\n",
    "    print(\"Range:\", np.min(d), \"-\", np.max(d))\n",
    "    mean=np.mean(d)\n",
    "    stdev=np.std(d)\n",
    "    print(\"Mean:\", mean)\n",
    "    print(\"Stdev:\", stdev)\n",
    "    return mean, stdev"
   ]
  },
  {
   "cell_type": "code",
   "execution_count": null,
   "metadata": {},
   "outputs": [],
   "source": [
    "print(\"\")\n",
    "print(\"Loading validation data ....\")\n",
    "sys.stdout.flush()\n",
    "if testing is True:\n",
    "    npoints, val1 = getdata(datadir, allfileset[4140:4200], n_context_frames)\n",
    "else:\n",
    "    npoints, val1 = getdata(datadir, allfileset[4140:4620], n_context_frames)\n",
    "print(\"Log validation data stats:\")\n",
    "getstats(val1)\n",
    "print(\"\")"
   ]
  },
  {
   "cell_type": "code",
   "execution_count": null,
   "metadata": {},
   "outputs": [],
   "source": [
    "print(\"Loading training data ....\")\n",
    "sys.stdout.flush()\n",
    "if testing is True:\n",
    "    len2, train1 = getdata(datadir, allfileset[:50], n_context_frames)\n",
    "else:\n",
    "    len2, train1 = getdata(datadir, allfileset[:4140], n_context_frames)\n",
    "print(\"Log training data stats:\")\n",
    "trmean, trstd = getstats(train1)\n",
    "print(\"\")\n",
    "print(\"trmean =\", trmean)\n",
    "print(\"trstd =\", trstd)\n",
    "print(\"\")\n",
    "sys.stdout.flush()"
   ]
  },
  {
   "cell_type": "markdown",
   "metadata": {},
   "source": [
    "We normalize the datasets by the mean and stdev of the training set.\n"
   ]
  },
  {
   "cell_type": "code",
   "execution_count": null,
   "metadata": {},
   "outputs": [],
   "source": [
    "def normdata(data, mean=trmean, sd=trstd):\n",
    "    normed_data = (data - mean) / sd\n",
    "    return normed_data, data"
   ]
  },
  {
   "cell_type": "markdown",
   "metadata": {},
   "source": [
    "The Keras function tf.keras.preprocessing.timeseries_dataset_from_array() is used to convert the training and validation sets from single NumPy arrays into tf.data.Datasets of non-overlapping **SEQUENCE_LENGTH** sequences. Note that the data fed as input to the model are the normalized frames, but the data used as the targets for evaluation are the original **un**-normalized frames. Since RNNs output sequences, both input and output data are 3-dimensional (batch_length * sequence_length * resolution)."
   ]
  },
  {
   "cell_type": "code",
   "execution_count": 11,
   "metadata": {},
   "outputs": [
    {
     "name": "stdout",
     "output_type": "stream",
     "text": [
      "\n",
      "Input shape: (32, 64, 257)\n",
      "Target shape: (32, 64, 257)\n",
      "\n"
     ]
    }
   ],
   "source": [
    "batched_train_dset = tf.keras.preprocessing.timeseries_dataset_from_array(\n",
    "    data=train1, targets=None, sequence_length=SEQUENCE_LENGTH, sequence_stride=SEQUENCE_LENGTH, batch_size=BATCH_SIZE)\n",
    "batched_val_dset = tf.keras.preprocessing.timeseries_dataset_from_array(\n",
    "    data=val1, targets=None, sequence_length=SEQUENCE_LENGTH, sequence_stride=SEQUENCE_LENGTH, batch_size=BATCH_SIZE)\n",
    "\n",
    "batched_train_dset = batched_train_dset.map(normdata)\n",
    "batched_val_dset = batched_val_dset.map(normdata)\n",
    "\n",
    "print(\"\")\n",
    "for batch_input, batch_target in batched_train_dset.take(1):\n",
    "    print(\"Input shape:\", batch_input.shape)\n",
    "    print(\"Target shape:\", batch_target.shape)\n",
    "print(\"\")\n",
    "sys.stdout.flush()"
   ]
  },
  {
   "cell_type": "code",
   "execution_count": null,
   "metadata": {},
   "outputs": [],
   "source": [
    "print(\"Using caching\")\n",
    "batched_train_dset = batched_train_dset.cache()\n",
    "batched_val_dset = batched_val_dset.cache()\n",
    "print(\"\")\n",
    "sys.stdout.flush()"
   ]
  },
  {
   "cell_type": "code",
   "execution_count": null,
   "metadata": {},
   "outputs": [],
   "source": [
    "del train1, val1\n",
    "#del train2, val2"
   ]
  },
  {
   "cell_type": "markdown",
   "metadata": {},
   "source": [
    "### Definition of Loss function, etc.\n",
    "\n",
    "The functions used to compute the loss are defined here. We tried to write the code so that it could handle variations in sampling rate (srate), frequency range (from 0 to maxfreq), number of formants (FORMANTS), number of anti-formants (ZEROS), spectral resolution (npoints), and the activation type of the final model output layer (myactivation). For the TIMIT experiments, these were all set constant across all experiments: 16K sampling rate, 0-8K frequency range, 6 formants, 1 zero, 257-point spectra, sigmoid activation."
   ]
  },
  {
   "cell_type": "markdown",
   "metadata": {},
   "source": [
    "The formant() function takes the frequency F and bandwidth B of each formant predicted by the model, and generates a corresponding formant: an array of spectrum levels h at each frequency bin f in the spectrum range at the given resolution (see Eqn. (1) of the IS2021 paper). The vtfn() function weights these by their corresponding amplitude factors, and combines them (multiplying or dividing, corresponding to whether it's a pole or zero) to produce a linear-scale spectral envelope."
   ]
  },
  {
   "cell_type": "code",
   "execution_count": null,
   "metadata": {},
   "outputs": [],
   "source": [
    "maxfreq=8000\n",
    "spec1 = tf.cast(np.linspace(0, maxfreq, npoints), dtype=tf.float32)\n",
    "\n",
    "@tf.function\n",
    "def formant(freq, bw, nres, npoints=257, maxfreq=8000):\n",
    "    fex = tf.expand_dims(freq, axis=-1)\n",
    "    bex = tf.expand_dims(bw, axis=-1)\n",
    "    bsq = bex**2 * 0.25\n",
    "    anum = fex**2 + bsq    \n",
    "    #spec1 = tf.cast(np.linspace(0, maxfreq, npoints), dtype=tf.float32)\n",
    "    spec2 = tf.tile(spec1, [tf.size(freq)])\n",
    "    spec = tf.reshape(spec2, [-1, nres, npoints])\n",
    "    negspec = (spec - fex)**2 + bsq\n",
    "    posspec = (spec + fex)**2 + bsq\n",
    "    formants = anum / tf.math.sqrt(negspec * posspec)\n",
    "    return(formants)\n",
    "\n",
    "#Note that vtfn returns a LINEAR-scale spectrum\n",
    "if NZEROS == 0:\n",
    "    @tf.function\n",
    "    def vtfn(freqs, bws, amps, npoints=257, srate=16000):\n",
    "        ax = tf.expand_dims(amps, axis=-1)\n",
    "        ax = 10.0 ** (ax / 20.0)   #convert log amplitudes to linear\n",
    "        maxf = srate // 2\n",
    "        specs = formant(freqs, bws, NFORMANTS, npoints, maxf)\n",
    "        sumspec = tf.reduce_sum(ax * specs, axis = -2)\n",
    "        return sumspec\n",
    "else:\n",
    "    @tf.function\n",
    "    def vtfn(freqs, bws, amps, zfreqs, zbws, npoints=257, srate=16000):\n",
    "        ax = tf.expand_dims(amps, axis=-1)\n",
    "        ax = 10.0 ** (ax / 20.0)   #convert log amplitudes to linear\n",
    "        maxf = srate // 2\n",
    "        fspecs = ax * formant(freqs, bws, NFORMANTS, npoints, maxf)\n",
    "        sumspecs = tf.reduce_sum(fspecs, axis = -2, keepdims=True)\n",
    "        zspecs = 1.0 / formant(zfreqs, zbws, NZEROS, npoints, maxf)\n",
    "        allspecs = tf.concat([sumspecs, zspecs], axis = -2)\n",
    "        prodspecs = tf.reduce_prod(allspecs, axis = -2)\n",
    "        return prodspecs"
   ]
  },
  {
   "cell_type": "markdown",
   "metadata": {},
   "source": [
    "The rescale_params() function takes the output of the model, and rescales it to the expected scale for formant parameters (e.g. 0-8000 Hz for frequencies). The input scale depends on the output activation of the model; we experimented with linear, tanh, softsign, and ReLU, but found that sigmoid usually works best. Note that this function forces the output of the model to be in the order F1 F2 F3 ... B1 B2 B3 ... A1 A2 A3 .... Note also that this function is needed for evaluation (further below) and any future use of the model."
   ]
  },
  {
   "cell_type": "code",
   "execution_count": null,
   "metadata": {},
   "outputs": [],
   "source": [
    "@tf.function(input_signature=(tf.TensorSpec(shape=[None, NPARAMS], dtype=tf.float32),))\n",
    "def rescale_params(params):\n",
    "    freqs, bws, amps = tf.split(params, [NSUM, NSUM, NFORMANTS], axis=-1)\n",
    "    if top_activation == 'sigmoid':    #network produces values between 0 and 1\n",
    "        freqs = freqs * 8000.0\n",
    "        bws = (bws * 5000.0) + 20.0\n",
    "        amps = (amps - 0.5) * 200.0\n",
    "    elif top_activation == 'softsign' or top_activation == 'tanh':  #network produces values between -1 and 1\n",
    "        freqs = (freqs + 1.0) * 4000.0\n",
    "        bws = (bws * 2500.0) + 2520.0\n",
    "        amps = amps * 100.0\n",
    "    elif top_activation == 'relu':   #network produces values of 0 or greater. Add 20.0 to avoid division by 0\n",
    "        bws = bws + 20.0\n",
    "        amps = amps - 100.0\n",
    "    return freqs, bws, amps      "
   ]
  },
  {
   "cell_type": "markdown",
   "metadata": {},
   "source": [
    "Finally, the model loss is calculated with custom_loss(). First, the batch and sequence dimensions are collapsed. Then the input model parameters are rescaled with rescale_params(). The formants are split into poles and zeros, and sent to vtfn() to compute a linear-scale spectral envelope. The envelope is then converted to decibel scale, and the spectral loss is calculated as the mean square difference between the generated envelope and the original envelope."
   ]
  },
  {
   "cell_type": "markdown",
   "metadata": {},
   "source": [
    "If Delta-frequency loss is being used, it is also calculated here, weighted by the **DIFFWEIGHT** parameter (derived from the weight specified on the command line), and added to the spectral loss to get the final loss. (We also experimented with using delta-loss with bandwidths and amplitudes, but those experiments have been unsuccessful so far.)"
   ]
  },
  {
   "cell_type": "code",
   "execution_count": null,
   "metadata": {},
   "outputs": [],
   "source": [
    "#Note that the floor is added to the log conversion here.\n",
    "#def get_custom_loss(myactivation='linear'):\n",
    "def get_custom_loss():\n",
    "    if NZEROS == 0:\n",
    "        @tf.function(input_signature=(tf.TensorSpec(shape=[None, None, npoints], dtype=tf.float32),\n",
    "                                     tf.TensorSpec(shape=[None, None, NPARAMS], dtype=tf.float32)))\n",
    "        def custom_loss(specs_input, params_pred):\n",
    "            npoints=specs_input.shape[-1]\n",
    "            specs_input = tf.reshape(specs_input, [-1, npoints])\n",
    "            params_pred = tf.reshape(params_pred, [-1, NPARAMS])\n",
    "            freqs, bws, amps = rescale_params(params_pred)\n",
    "            specs_pred = vtfn(freqs, bws, amps, npoints=specs_input.shape[-1], srate=16000)\n",
    "            specs_pred = 20.0 * tf.math.log(floor + specs_pred) / tf.math.log(10.0)\n",
    "            mse = tf.math.reduce_mean(tf.square(specs_input - specs_pred)) #loss over whole batch\n",
    "            fdiff = tf.math.reduce_mean(tf.abs(freqs[1:] - freqs[:-1]))\n",
    "            #bdiff = tf.math.reduce_mean(tf.abs(bws[1:] - bws[:-1]))\n",
    "            #adiff = tf.math.reduce_mean(tf.abs(amps[1:] - amps[:-1]))\n",
    "            #return(mse + DIFFWEIGHT * (fdiff + bdiff + 25.0 * adiff))\n",
    "            return(mse + DIFFWEIGHT * (fdiff)) # + bdiff + 25.0 * adiff))\n",
    "\n",
    "    else:  \n",
    "        @tf.function(input_signature=(tf.TensorSpec(shape=[None, None, npoints], dtype=tf.float32),\n",
    "                                     tf.TensorSpec(shape=[None, None, NPARAMS], dtype=tf.float32)))\n",
    "        def custom_loss(specs_input, params_pred):\n",
    "            npoints=specs_input.shape[-1]\n",
    "            specs_input = tf.reshape(specs_input, [-1, npoints])\n",
    "            params_pred = tf.reshape(params_pred, [-1, NPARAMS])\n",
    "            freqs, bws, amps = rescale_params(params_pred)\n",
    "            pfreqs, zfreqs = tf.split(freqs, [NFORMANTS, NZEROS], axis=-1)\n",
    "            pbws, zbws = tf.split(bws, [NFORMANTS, NZEROS], axis=-1)\n",
    "            specs_pred = vtfn(pfreqs, pbws, amps, zfreqs, zbws, npoints=specs_input.shape[-1], srate=16000)\n",
    "            specs_pred = 20.0 * tf.math.log(floor + specs_pred) / tf.math.log(10.0)\n",
    "            mse = tf.math.reduce_mean(tf.square(specs_input - specs_pred)) #loss over whole batch\n",
    "            fdiff = tf.math.reduce_mean(tf.abs(freqs[1:] - freqs[:-1]))\n",
    "            #bdiff = tf.math.reduce_mean(tf.abs(bws[1:] - bws[:-1]))\n",
    "            #adiff = tf.math.reduce_mean(tf.abs(amps[1:] - amps[:-1]))\n",
    "            #return(mse + DIFFWEIGHT * (fdiff + bdiff + 25.0 * adiff))\n",
    "            return(mse + DIFFWEIGHT * (fdiff)) # + bdiff + 25.0 * adiff))\n",
    "    \n",
    "    return custom_loss"
   ]
  },
  {
   "cell_type": "markdown",
   "metadata": {},
   "source": [
    "### Build and train model"
   ]
  },
  {
   "cell_type": "code",
   "execution_count": null,
   "metadata": {},
   "outputs": [],
   "source": [
    "model = tf.keras.Sequential([\n",
    "    tf.keras.layers.LSTM(512, return_sequences=True),\n",
    "    tf.keras.layers.Dense(NFORMANTS*3 + NZEROS*2, activation=top_activation),\n",
    "])"
   ]
  },
  {
   "cell_type": "code",
   "execution_count": 17,
   "metadata": {},
   "outputs": [
    {
     "name": "stdout",
     "output_type": "stream",
     "text": [
      "Input shape:  (32, 64, 257)\n",
      "Output shape:  (32, 64, 20)\n",
      "\n"
     ]
    }
   ],
   "source": [
    "print(\"Input shape: \", batch_input.shape)\n",
    "print(\"Output shape: \", model(batch_input).shape)\n",
    "print(\"\")\n",
    "sys.stdout.flush()"
   ]
  },
  {
   "cell_type": "code",
   "execution_count": 18,
   "metadata": {},
   "outputs": [
    {
     "name": "stdout",
     "output_type": "stream",
     "text": [
      "Model: \"sequential\"\n",
      "_________________________________________________________________\n",
      "Layer (type)                 Output Shape              Param #   \n",
      "=================================================================\n",
      "lstm (LSTM)                  (32, 64, 512)             1576960   \n",
      "_________________________________________________________________\n",
      "dense (Dense)                (32, 64, 20)              10260     \n",
      "=================================================================\n",
      "Total params: 1,587,220\n",
      "Trainable params: 1,587,220\n",
      "Non-trainable params: 0\n",
      "_________________________________________________________________\n"
     ]
    }
   ],
   "source": [
    "model.summary()"
   ]
  },
  {
   "cell_type": "code",
   "execution_count": null,
   "metadata": {},
   "outputs": [],
   "source": [
    "myloss = get_custom_loss()\n",
    "\n",
    "model.compile(\n",
    "    optimizer=tf.keras.optimizers.Adam(0.0001),\n",
    "    loss=myloss, metrics=[myloss]\n",
    ")"
   ]
  },
  {
   "cell_type": "markdown",
   "metadata": {},
   "source": [
    "### If a restart, reload last model"
   ]
  },
  {
   "cell_type": "code",
   "execution_count": null,
   "metadata": {},
   "outputs": [],
   "source": [
    "reload = True\n",
    "if testing is True:\n",
    "    last_epoch = 0\n",
    "    reload = False"
   ]
  },
  {
   "cell_type": "code",
   "execution_count": null,
   "metadata": {},
   "outputs": [],
   "source": [
    "checkpoints = glob.glob(checkpoint_dir + \"/*.index\")\n",
    "if len(checkpoints) > 0 and reload is True:\n",
    "    latest_checkpoint = max(checkpoints, key=os.path.getctime)\n",
    "    model.load_weights(latest_checkpoint[:-6]) #remove .index suffix\n",
    "    print(\"Reloading from\", latest_checkpoint)\n",
    "    sys.stdout.flush()\n",
    "    last_epoch=int(latest_checkpoint.partition('-')[0][-3:])\n",
    "else:\n",
    "    last_epoch=0"
   ]
  },
  {
   "cell_type": "markdown",
   "metadata": {},
   "source": [
    "The trained model is saved after every epoch that produces a validation loss lower than that of any previous epoch. Models were trained until the best best validation loss was not improved after 20 epochs (patience=20), or a maximum of 200 epochs."
   ]
  },
  {
   "cell_type": "code",
   "execution_count": null,
   "metadata": {},
   "outputs": [],
   "source": [
    "model_checkpoint_callback = tf.keras.callbacks.ModelCheckpoint(\n",
    "    filepath=checkpoint_dir + \"/weights.\" + top_activation + \"{epoch:03d}-{val_custom_loss:.3f}\",\n",
    "    save_best_only=True, save_weights_only=True,\n",
    "    monitor='val_custom_loss', mode='min')\n",
    "\n",
    "early_stopping_callback = tf.keras.callbacks.EarlyStopping(\n",
    "    patience=20, monitor='val_custom_loss', mode='min')\n",
    "\n",
    "if testing is True:\n",
    "    EPOCHS = 3\n",
    "    VERBOSITY = 1\n",
    "else:\n",
    "    EPOCHS = 200\n",
    "    VERBOSITY = 2\n",
    "\n",
    "model.fit(batched_train_dset, epochs=EPOCHS, verbose=VERBOSITY,\n",
    "          callbacks=[model_checkpoint_callback, early_stopping_callback], \n",
    "          validation_data=batched_val_dset)"
   ]
  },
  {
   "cell_type": "markdown",
   "metadata": {},
   "source": [
    "## Restore best model and evaluate"
   ]
  },
  {
   "cell_type": "code",
   "execution_count": null,
   "metadata": {},
   "outputs": [],
   "source": [
    "print(\"\")\n",
    "sys.stdout.flush()\n",
    "checkpoints = glob.glob(checkpoint_dir + \"/*.index\")\n",
    "latest_checkpoint = max(checkpoints, key=os.path.getctime)\n",
    "model.load_weights(latest_checkpoint[:-6]) #remove .index suffix\n",
    "print(\"Restoring from\", latest_checkpoint)\n",
    "sys.stdout.flush()\n",
    "\n",
    "train_eval = model.evaluate(batched_train_dset, verbose=0)\n",
    "print(\"Training loss:\", train_eval[0])\n",
    "sys.stdout.flush()\n",
    "\n",
    "val_eval = model.evaluate(batched_val_dset, verbose=0)\n",
    "print(\"Validation loss:\", val_eval[0])\n",
    "sys.stdout.flush()"
   ]
  },
  {
   "cell_type": "markdown",
   "metadata": {},
   "source": [
    "At this point, the TIMIT test data is loaded and tested. Note that all input data fed to the model must first be normalized using the mean and standard deviation of the original training data, so those values need to be recorded for evaluation (see also below) and any future model use.  (Here they are stored in the function normdata().)"
   ]
  },
  {
   "cell_type": "code",
   "execution_count": null,
   "metadata": {},
   "outputs": [],
   "source": [
    "if testing is True:\n",
    "    len3, test1 = getdata(datadir, allfileset[4620:4680], n_context_frames, verbose=1)\n",
    "else:\n",
    "    len3, test1 = getdata(datadir, allfileset[4620:6300], n_context_frames, verbose=0)\n",
    "\n",
    "batched_test_dset = tf.keras.preprocessing.timeseries_dataset_from_array(\n",
    "    test1, targets=None, sequence_length=SEQUENCE_LENGTH, sequence_stride=SEQUENCE_LENGTH, batch_size=BATCH_SIZE)\n",
    "batched_test_dset = batched_test_dset.map(normdata)\n",
    "\n",
    "test_eval = model.evaluate(batched_test_dset, verbose=0)\n",
    "print(\"Test loss (TIMIT):\", test_eval[0])"
   ]
  },
  {
   "cell_type": "markdown",
   "metadata": {},
   "source": [
    "## Generate TIMIT data\n",
    "\n",
    "For evaluation, the models were run on the TIMIT recordings whose formants were measured for the VTR-TIMIT formant database. The output files are generated in a subdirectory /timit/ of the output directory (*checkpoint_dir*). The filename will be prefixed by *checkpoint_dir* and have the suffix \".abs\". These files are text files, with one output line for every window of speech extracted from the input file (every 5 msec with the default settings above). The columns of the output file consist of the following in order: the filename, 3 placeholder columns (for the particular needs of our research), the time point in milliseconds, 7 more placeholder columns, and then the total number of resonances (poles plus zeros). This is followed by the parameters (frequency, bandwidth, and amplitude correction factor, in that order) of the poles, in order of increasing mean frequency, and then those of the zeros, in order of increasing mean absolute frequency.\n",
    "\n",
    "Other notes:\n",
    "* For output interpretation, it's important to remember that the generated \"amplitudes\" are not actually final formant amplitudes, but rather weighting factors that are used to adjust the initial formant amplitudes generated by formant().\n",
    "* The following code changes the frequencies of the zeros to negative values, to distinguish them from the poles. Also, since the zeros don't have their own amplitude correction factors, a placeholder value of \"0.0\" is inserted (theoretically we should have used 1.0 instead, but this value is not used in any computations).\n",
    "* The output code below assumes a frame rate of one per 5 milliseconds, which is the rate we used for our input data. (However, the VTR TIMIT measurements were taken once per 10 milliseconds, so every other output frame was used for evaluation.)\n",
    "* Since there is nothing in the custom loss code above that distinguishes one formant from another (aside from poles versus zeros), and any of them can take frequency values between 0 and 8000, the model output neurons may generate the formants in any random order (although that order will be constant from one frame to the next; e.g. if neuron 3 generates F1 for one frame, it does so for all frames and files).  The code below reorders the formants by their mean frequencies over all frames."
   ]
  },
  {
   "cell_type": "code",
   "execution_count": null,
   "metadata": {},
   "outputs": [],
   "source": [
    "print(\"Generating\", len(vtrfileset), \".abs files on TIMIT data:\")\n",
    "\n",
    "cmd = [\"mkdir\", \"-p\", checkpoint_dir + \"/timit\"]\n",
    "subprocess.run(cmd)\n",
    "datadir = \"../data/timit/timitlink/\"\n",
    "for filename in vtrfileset:\n",
    "        shortname=filename[:-4].replace(\"/\",\"_\")\n",
    "        outname=checkpoint_dir + \"/timit/\" + checkpoint_dir + \"_\" + shortname\n",
    "\n",
    "        #Note that we feed the files one at a time to getdata()\n",
    "        lenf, f1 = getdata(datadir, [filename], n_context_frames, verbose=0)\n",
    "        #Again, the input data must be normalized by the training set statistics\n",
    "        f2 = (f1 - trmean) / trstd\n",
    "        #Add a third dimension so that frame sequence can be read directly by the model\n",
    "        f2 = tf.expand_dims(f2, axis=0)\n",
    "        y = model.predict(f2)[0]\n",
    "        # Rescale and reorganize output\n",
    "        f, b, a = rescale_params(y)\n",
    "        zf=f.numpy()\n",
    "        za=a.numpy()\n",
    "        zb=b.numpy()        \n",
    "\n",
    "        # Convert zero frequencies to negative numbers and insert placeholder \"0.0\" for zero amplitudes.\n",
    "        # Then sort formants and zeroes separately by increasing frequency.\n",
    "        if NZEROS > 0:\n",
    "            fp, f0 = tf.split(zf, [NFORMANTS, NZEROS], axis=-1)\n",
    "            f0 = f0 * -1.0\n",
    "            zf = tf.concat([fp, f0], axis=-1)\n",
    "            a0 = tf.zeros([za.shape[0], NZEROS], dtype=tf.float32)\n",
    "            za = tf.concat([za, a0], axis=-1)    \n",
    "            ord = np.hstack((np.argsort(np.mean(fp, axis=0)), (np.flip(np.argsort(np.mean(f0, axis=0)) + NFORMANTS))))\n",
    "        else:\n",
    "            ord = np.argsort(np.mean(np.abs(zf),axis=0))\n",
    "        \n",
    "        print(\"FILE:\", shortname)\n",
    "        sys.stdout.flush()\n",
    "\n",
    "        #Re-sort parameters in the order F1 B1 A1, F2 B2 A2, etc. and write to output file\n",
    "        p = [(i, i+NSUM, i+(NSUM*2)) for i in ord]\n",
    "        p2=sum(p, ())\n",
    "        zp=np.hstack((zf, zb, za))\n",
    "        out1=zp[:,p2]\n",
    "        ff = open(outname + \".abs\", \"w\")\n",
    "        for i in range(out1.shape[0]):\n",
    "            ff.write(\"{} AA 1 1 {:.1f} 200.0 60 0 0 60 40 2 {}   \".format(shortname, i*5.0, NSUM))\n",
    "            out1[i,:].tofile(ff, sep=\" \")\n",
    "            ff.write(\" \\n\")\n",
    "        ff.close()"
   ]
  },
  {
   "cell_type": "code",
   "execution_count": null,
   "metadata": {},
   "outputs": [],
   "source": [
    "print(\"\")\n",
    "print(\"FINISHED script for\", checkpoint_dir)"
   ]
  }
 ],
 "metadata": {
  "kernelspec": {
   "display_name": "Python 3",
   "language": "python",
   "name": "python3"
  },
  "language_info": {
   "codemirror_mode": {
    "name": "ipython",
    "version": 3
   },
   "file_extension": ".py",
   "mimetype": "text/x-python",
   "name": "python",
   "nbconvert_exporter": "python",
   "pygments_lexer": "ipython3",
   "version": "3.8.5"
  }
 },
 "nbformat": 4,
 "nbformat_minor": 4
}
