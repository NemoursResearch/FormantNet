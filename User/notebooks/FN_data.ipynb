{
 "cells": [
  {
   "cell_type": "markdown",
   "metadata": {},
   "source": [
    "# FormantNet Data Handling Functions"
   ]
  },
  {
   "cell_type": "markdown",
   "metadata": {},
   "source": [
    "The following functions read in and normalize the data. This code is like that used in the PaPE2021 experiments, and unlike the IAIF-preprocessed data used in the IS2021 experiments, in that it reads in raw wavefiles and then converts them into the model input, which consists of log-scale (dB) smoothed spectral envelopes calculated from each frame of input, as described in the IS2021 paper."
   ]
  },
  {
   "cell_type": "code",
   "execution_count": null,
   "metadata": {},
   "outputs": [],
   "source": [
    "import numpy as np\n",
    "import tensorflow as tf\n",
    "import sys"
   ]
  },
  {
   "cell_type": "markdown",
   "metadata": {},
   "source": [
    "**smooth_spenvl()** is used by **getdata()** to smooth the spectral envelopes extracted from the wavefiles. The number of smoothing passes is controlled by *npasses* (ultimately by cfg.ENV_SMOOTH_PASSES, by default 6)."
   ]
  },
  {
   "cell_type": "code",
   "execution_count": null,
   "metadata": {},
   "outputs": [],
   "source": [
    "def smooth_spenvl(data, npasses):\n",
    "    npt=len(data)\n",
    "    for jp in range(npasses):\n",
    "        dm1 = data[0]\n",
    "        dz = data[1]\n",
    "        for j in range(1, npt-1):\n",
    "            dp1 = data[j+1]\n",
    "            if dz < dm1 and dz < dp1:\n",
    "                data[j] = 0.5 * (dm1 + dp1)\n",
    "            dm1 = dz\n",
    "            dz = dp1\n",
    "            \n",
    "        dm1 = data[0]\n",
    "        dz = data[1]\n",
    "        for j in range(1, npt-1):\n",
    "            dp1 = data[j+1]\n",
    "            if dz <= dm1 or dz <= dp1:\n",
    "                data[j] = 0.25*dm1 + 0.5*dz + 0.25*dp1\n",
    "            dm1 = dz\n",
    "            dz = dp1\n",
    "            \n",
    "    return data         "
   ]
  },
  {
   "cell_type": "markdown",
   "metadata": {},
   "source": [
    "**getdata()** is used to read the input wavefiles and extract the smoothed spectral envelopes. Configuration parameters determine how much pre-emphasis, if any, is used (PREEMPH), window width (WINDOW_LENGTH_MSEC), window spacing (WINDOW_STRIDE_MSEC), the amount of envelope smoothing (ENV_SMOOTH_PASSES), and whether that smoothing is done before or after the linear-scale envelopes are converted to decibels (SMOOTH_LINEAR). The ultimate length of the envelope (number of frequency bins) is controlled by SPECTRUM_NPOINTS: if the user wants to use a frequency range smaller than the Nyquist frequency, then the higher-frequency bins are simply removed from the final envelopes as desired.\n",
    "\n",
    "Finally, note that getdata() concatenates all input files into one single NumPy array, with nothing to indicate boundaries between input files; model training sequences may thus start in one file and end in the next. But also note that the filelist may be a single file (which is necessary for evaluation -- see **FN_model.track_files()**)."
   ]
  },
  {
   "cell_type": "code",
   "execution_count": null,
   "metadata": {},
   "outputs": [],
   "source": [
    "#scaling_constant = 2.0 / tf.reduce_sum(tf.signal.hann_window(window_length=cfg.WINDOW_LENGTH_SAMPLES, \n",
    "#                                                             periodic=False)).numpy()\n",
    "\n",
    "def getdata(filelist, cfg, verbose=1):\n",
    "    scaling_constant = 2.0 / tf.reduce_sum(tf.signal.hann_window(window_length=cfg.WINDOW_LENGTH_SAMPLES, \n",
    "                                                                 periodic=False)).numpy()\n",
    "    if verbose > 0:\n",
    "        import time\n",
    "        start_time = time.perf_counter()\n",
    "    datalist = []\n",
    "    for f in filelist:\n",
    "        audio_binary = tf.io.read_file(f)\n",
    "        aud0, fs = tf.audio.decode_wav(audio_binary)\n",
    "        normed_audio = tf.squeeze(aud0, axis = -1)\n",
    "        audio = normed_audio * 32768.0\n",
    "        pe_audio = audio.numpy()\n",
    "        pe_audio[1:] = pe_audio[1:] - cfg.PREEMPH * audio[:-1].numpy()\n",
    "        audio_padded = np.hstack((np.zeros(( cfg.WINDOW_LENGTH_SAMPLES // 2 )), pe_audio, \n",
    "                                  np.zeros(( cfg.FRAME_STRIDE_SAMPLES - 1 ))))\n",
    "            \n",
    "        specs = tf.abs(tf.signal.stft(audio_padded, frame_length=cfg.WINDOW_LENGTH_SAMPLES, \n",
    "                                      frame_step=cfg.FRAME_STRIDE_SAMPLES, \n",
    "                                      fft_length=cfg.WINDOW_LENGTH_SAMPLES, pad_end=False)).numpy()\n",
    "        \n",
    "        # Conversion from linear to log scale (before smoothing)\n",
    "        if not cfg.SMOOTH_LINEAR:\n",
    "            specs = 20.0 * np.log10(scaling_constant * specs + cfg.FLOOR)\n",
    "        \n",
    "        #Spectral envelope smoothing\n",
    "        for i in range(specs.shape[0]):\n",
    "            datalist += list(smooth_spenvl(specs[i], cfg.ENV_SMOOTH_PASSES))\n",
    "\n",
    "    dataset = np.array(datalist, dtype=np.float32).reshape(-1, specs.shape[1])\n",
    "    \n",
    "    # Conversion from linear to log scale (after smoothing)\n",
    "    if cfg.SMOOTH_LINEAR:\n",
    "        dataset = 20.0 * np.log10(scaling_constant * dataset + cfg.FLOOR)\n",
    "\n",
    "    # If user requested a restricted frequency range, remove the extra frequency bins\n",
    "    dataset = dataset[:,:cfg.SPECTRUM_NPOINTS]\n",
    "    \n",
    "    if (verbose > 0):\n",
    "        print(\"Loaded\", len(filelist), \"files (time:\", time.perf_counter() - start_time, \")\")\n",
    "    return specs.shape[1], dataset"
   ]
  },
  {
   "cell_type": "markdown",
   "metadata": {},
   "source": [
    "**getstats()** is used to calculate and print some stats on the dataset. Note that the mean and standard deviation of the training set calculated with this function is used to normalize all training and evaluation data prior to being fed to the model."
   ]
  },
  {
   "cell_type": "code",
   "execution_count": null,
   "metadata": {},
   "outputs": [],
   "source": [
    "def getstats(d):\n",
    "    print(\"Statistics of log-scale data:\")\n",
    "    print(\"  Shape:\", d.shape)\n",
    "    print(\"  Range:\", np.min(d), \"-\", np.max(d))\n",
    "    mean=np.mean(d)\n",
    "    stdev=np.std(d)\n",
    "    print(\"  Mean:\", mean)\n",
    "    print(\"  Stdev:\", stdev)\n",
    "    sys.stdout.flush()\n",
    "    return mean, stdev"
   ]
  },
  {
   "cell_type": "markdown",
   "metadata": {},
   "source": [
    "**get_batched_data()** is used to complete the entire process of extracting, batching, and normalizing data. The initial extraction is performed by **getdata()**. Then the Keras function tf.keras.preprocessing.timeseries_dataset_from_array() is used to convert the data sets from single NumPy arrays into tf.data.Datasets of batches of **SEQUENCE_LENGTH** sequences. These are then converted by normdata() into 2-tuples of input and evaluation datasets. If a mean and standard deviation is provided to the function, then those are used to normalize the data; otherwise, the dataset's own statistics are used for normalization. Note that the data that will be fed as input to the model are the normalized frames (the first item in the **batched_dset** tuple), but the data used as the targets for evaluation are the original **un**-normalized frames (the second item in the **batched_dset** tuple). Since RNNs output sequences, both input and output data are 3-dimensional (batch_length * sequence_length * features)."
   ]
  },
  {
   "cell_type": "code",
   "execution_count": null,
   "metadata": {},
   "outputs": [],
   "source": [
    "def get_batched_data(filelist, cfg, trmean=None, trstd=None):\n",
    "    \n",
    "    npoints, dat1 = getdata(filelist, cfg)\n",
    "    mean, std = getstats(dat1)\n",
    "    \n",
    "    batched_dset = tf.keras.preprocessing.timeseries_dataset_from_array(\n",
    "        data=dat1, targets=None, sequence_length=cfg.SEQUENCE_LENGTH, \n",
    "        sequence_stride=cfg.SEQUENCE_STRIDE, batch_size=cfg.BATCH_SIZE)\n",
    "    \n",
    "    if trmean is None:\n",
    "        trmean = mean\n",
    "        trstd = std\n",
    "        \n",
    "    def normdata(data, mean=trmean, sd=trstd):\n",
    "        normed_data = (data - mean) / sd\n",
    "        return normed_data, data\n",
    "\n",
    "    batched_dset = batched_dset.map(normdata).cache()\n",
    "    \n",
    "    del dat1\n",
    "    return batched_dset, trmean, trstd"
   ]
  }
 ],
 "metadata": {
  "kernelspec": {
   "display_name": "Python 3",
   "language": "python",
   "name": "python3"
  },
  "language_info": {
   "codemirror_mode": {
    "name": "ipython",
    "version": 3
   },
   "file_extension": ".py",
   "mimetype": "text/x-python",
   "name": "python",
   "nbconvert_exporter": "python",
   "pygments_lexer": "ipython3",
   "version": "3.8.5"
  }
 },
 "nbformat": 4,
 "nbformat_minor": 4
}
